{
 "cells": [
  {
   "cell_type": "code",
   "execution_count": 184,
   "metadata": {},
   "outputs": [],
   "source": [
    "import os\n",
    "import json\n",
    "file = \"finance.json\"\n",
    "\n",
    "def load_finance_data(finance):\n",
    "        if os.path.exists(finance):\n",
    "            with open(finance, \"r\") as file:\n",
    "                return json.load(file)\n",
    "        return {}\n",
    "data = load_finance_data(file)\n",
    "months = list(data.keys())\n"
   ]
  },
  {
   "cell_type": "code",
   "execution_count": 194,
   "metadata": {},
   "outputs": [
    {
     "name": "stdout",
     "output_type": "stream",
     "text": [
      "0\n",
      "1\n",
      "2\n",
      "[]\n",
      "100\n",
      "150\n",
      "200\n",
      "450\n"
     ]
    }
   ],
   "source": [
    "for month in months:\n",
    "    print(len(data[month][\"Expenses\"]))\n",
    "print(data[\"2025-02\"][\"Expenses\"])\n",
    "\n",
    "for m in months:\n",
    "    if not data[m][\"Expenses\"]:\n",
    "        continue\n",
    "    else:\n",
    "        for length in range(len(data[m][\"Expenses\"])):\n",
    "            print(data[m][\"Expenses\"][length][\"amount\"])\n",
    "\n",
    "total_expenses = sum(sum(data[m][\"Expenses\"][length][\"amount\"] for length in range(len(data[m][\"Expenses\"]))) for m in months if len(data[m][\"Expenses\"]) != 0)\n",
    "\n",
    "print(total_expenses)"
   ]
  }
 ],
 "metadata": {
  "kernelspec": {
   "display_name": "Python 3",
   "language": "python",
   "name": "python3"
  },
  "language_info": {
   "codemirror_mode": {
    "name": "ipython",
    "version": 3
   },
   "file_extension": ".py",
   "mimetype": "text/x-python",
   "name": "python",
   "nbconvert_exporter": "python",
   "pygments_lexer": "ipython3",
   "version": "3.11.9"
  }
 },
 "nbformat": 4,
 "nbformat_minor": 2
}
